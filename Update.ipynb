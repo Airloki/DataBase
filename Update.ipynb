{
 "cells": [
  {
   "cell_type": "code",
   "execution_count": 18,
   "metadata": {},
   "outputs": [],
   "source": [
    "import pandas as pd\n",
    "import numpy as np\n",
    "import requests\n",
    "import datetime"
   ]
  },
  {
   "cell_type": "code",
   "execution_count": 19,
   "metadata": {},
   "outputs": [],
   "source": [
    "# Make a list"
   ]
  },
  {
   "cell_type": "code",
   "execution_count": 20,
   "metadata": {},
   "outputs": [],
   "source": [
    "index_01 = ['AL', 'C9', 'CU', 'HC', 'I9', 'J9', 'JD', 'JM', 'M9', 'MA', 'NI', 'PB','RB', 'RM', 'RU', 'SR', 'Y9', 'ZC', 'ZN']\n",
    "values_01 = ['沪铝', '玉米', '沪铜', '热卷', '铁矿', '焦炭', '鸡蛋', '焦煤', '豆粕', '甲醇', '沪镍','沪铅', '螺纹', '菜粕', '橡胶', '白糖', '豆油', '郑煤', '沪锌']\n",
    "Type_List_01 = pd.Series(values_01,index=index_01)"
   ]
  },
  {
   "cell_type": "code",
   "execution_count": 21,
   "metadata": {},
   "outputs": [],
   "source": [
    "index_02 = ['AL', 'C9', 'CU', 'HC', 'I9', 'J9', 'JD', 'JM', 'M9', 'MA', 'NI', 'PB','RB', 'RM', 'RU', 'SR', 'Y9', 'ZC', 'ZN']\n",
    "values_02 = ['AL', 'C', 'CU', 'HC', 'I', 'J', 'JD', 'JM', 'M', 'MA', 'NI', 'PB','RB', 'RM', 'RU', 'SR', 'Y', 'ZC', 'ZN']\n",
    "Type_List_02 = pd.Series(values_02,index=index_02)"
   ]
  },
  {
   "cell_type": "code",
   "execution_count": 22,
   "metadata": {},
   "outputs": [],
   "source": [
    "# Update Data of 60 mins"
   ]
  },
  {
   "cell_type": "code",
   "execution_count": 23,
   "metadata": {},
   "outputs": [
    {
     "name": "stdout",
     "output_type": "stream",
     "text": [
      "沪铝:2018-10-15 14:00:00\n",
      "玉米:2018-10-15 14:00:00\n",
      "沪铜:2018-10-15 14:00:00\n",
      "热卷:2018-10-15 14:00:00\n",
      "铁矿:2018-10-15 14:00:00\n",
      "焦炭:2018-10-15 14:00:00\n",
      "鸡蛋:2018-10-15 14:00:00\n",
      "焦煤:2018-10-15 14:00:00\n",
      "豆粕:2018-10-15 14:00:00\n",
      "甲醇:2018-10-15 14:00:00\n",
      "沪镍:2018-10-15 14:00:00\n",
      "沪铅:2018-10-15 14:00:00\n",
      "螺纹:2018-10-15 14:00:00\n",
      "菜粕:2018-10-15 14:00:00\n",
      "橡胶:2018-10-15 14:00:00\n",
      "白糖:2018-10-15 14:00:00\n",
      "豆油:2018-10-15 14:00:00\n",
      "郑煤:2018-10-15 14:00:00\n",
      "沪锌:2018-10-15 14:00:00\n"
     ]
    }
   ],
   "source": [
    "for name in Type_List_01.index:\n",
    "    try:\n",
    "        DF = pd.read_csv('1hour\\\\'+name+'1h.csv',sep=',',encoding='gb2312')\n",
    "        DF = DF.iloc[:,0:6]\n",
    "        DF.columns = ['Time','Open','High','Low','Close','Vol']\n",
    "        \n",
    "        link_60m = 'http://stock2.finance.sina.com.cn/futures/api/json.php/IndexService.getInnerFuturesMiniKLine60m?symbol='+Type_List_02[name]+'0'\n",
    "        r_01 = requests.get(link_60m)\n",
    "        New_Data = pd.DataFrame(r_01.json(),columns =['Time','Open','High','Low','Close','Vol'])\n",
    "        Last_time = list(DF.Time)[0]\n",
    "        the_num = New_Data[New_Data.Time==Last_time].index[0] \n",
    "        New_Data = New_Data.iloc[1:the_num,:]\n",
    "        New_index = range(-len(New_Data),0)\n",
    "        New_Data.index = New_index\n",
    "        DF.loc[:,['Open','High','Low','Close']] = DF.loc[:,['Open','High','Low','Close']].astype('float64')\n",
    "        New_Data.loc[:,['Open','High','Low','Close']] = New_Data.loc[:,['Open','High','Low','Close']].astype('float64')        \n",
    "        DF = pd.concat([New_Data,DF])\n",
    "        \n",
    "        #DF = DF.sort_index(ascending = False)\n",
    "        DF.to_csv('1hour\\\\'+name+'1h.csv',index = False)\n",
    "        print(Type_List_01[name]+':'+str(list(DF.Time)[0]))\n",
    "    except:\n",
    "        print(name+'Wrong')"
   ]
  },
  {
   "cell_type": "code",
   "execution_count": 24,
   "metadata": {},
   "outputs": [],
   "source": [
    "# Update Data of 30 mins"
   ]
  },
  {
   "cell_type": "code",
   "execution_count": 25,
   "metadata": {},
   "outputs": [
    {
     "name": "stdout",
     "output_type": "stream",
     "text": [
      "沪铝:2018-10-15 14:30:00\n",
      "玉米:2018-10-15 14:30:00\n",
      "沪铜:2018-10-15 14:30:00\n",
      "热卷:2018-10-15 14:30:00\n",
      "铁矿:2018-10-15 14:30:00\n",
      "焦炭:2018-10-15 14:30:00\n",
      "鸡蛋:2018-10-15 14:30:00\n",
      "焦煤:2018-10-15 14:30:00\n",
      "豆粕:2018-10-15 14:30:00\n",
      "甲醇:2018-10-15 14:30:00\n",
      "沪镍:2018-10-15 14:30:00\n",
      "沪铅:2018-10-15 14:30:00\n",
      "螺纹:2018-10-15 14:30:00\n",
      "菜粕:2018-10-15 14:30:00\n",
      "橡胶:2018-10-15 14:30:00\n",
      "白糖:2018-10-15 14:30:00\n",
      "豆油:2018-10-15 14:30:00\n",
      "郑煤:2018-10-15 14:30:00\n",
      "沪锌:2018-10-15 14:30:00\n"
     ]
    }
   ],
   "source": [
    "for name in Type_List_01.index:\n",
    "    try:\n",
    "        DF = pd.read_csv('30min\\\\'+name+'30m.csv',sep=',',encoding='gb2312')\n",
    "        DF = DF.iloc[:,0:6]\n",
    "        DF.columns = ['Time','Open','High','Low','Close','Vol'] \n",
    "        \n",
    "        link_30m = 'http://stock2.finance.sina.com.cn/futures/api/json.php/IndexService.getInnerFuturesMiniKLine30m?symbol='+Type_List_02[name]+'0'\n",
    "        r_01 = requests.get(link_30m)\n",
    "        New_Data = pd.DataFrame(r_01.json(),columns =['Time','Open','High','Low','Close','Vol'])\n",
    "        Last_time = list(DF.Time)[0]\n",
    "        the_num = New_Data[New_Data.Time==Last_time].index[0] \n",
    "        New_Data = New_Data.iloc[1:the_num,:]\n",
    "        New_index = range(-len(New_Data),0)\n",
    "        New_Data.index = New_index\n",
    "        DF.loc[:,['Open','High','Low','Close']] = DF.loc[:,['Open','High','Low','Close']].astype('float64')\n",
    "        New_Data.loc[:,['Open','High','Low','Close']] = New_Data.loc[:,['Open','High','Low','Close']].astype('float64')        \n",
    "        DF = pd.concat([New_Data,DF])\n",
    "        \n",
    "        #DF = DF.sort_index(ascending = False)\n",
    "        DF.to_csv('30min\\\\'+name+'30m.csv',index = False)\n",
    "        print(Type_List_01[name]+':'+str(list(DF.Time)[0]))\n",
    "    except:\n",
    "        print(name+'Wrong')"
   ]
  },
  {
   "cell_type": "code",
   "execution_count": 26,
   "metadata": {},
   "outputs": [],
   "source": [
    "# Update Data of 15 mins"
   ]
  },
  {
   "cell_type": "code",
   "execution_count": 27,
   "metadata": {},
   "outputs": [
    {
     "name": "stdout",
     "output_type": "stream",
     "text": [
      "沪铝:2018-10-15 14:45:00\n",
      "玉米:2018-10-15 14:45:00\n",
      "沪铜:2018-10-15 14:45:00\n",
      "热卷:2018-10-15 14:45:00\n",
      "铁矿:2018-10-15 14:45:00\n",
      "焦炭:2018-10-15 14:45:00\n",
      "鸡蛋:2018-10-15 14:45:00\n",
      "焦煤:2018-10-15 14:45:00\n",
      "豆粕:2018-10-15 14:45:00\n",
      "甲醇:2018-10-15 14:45:00\n",
      "沪镍:2018-10-15 14:45:00\n",
      "沪铅:2018-10-15 14:45:00\n",
      "螺纹:2018-10-15 14:45:00\n",
      "菜粕:2018-10-15 14:45:00\n",
      "橡胶:2018-10-15 14:45:00\n",
      "白糖:2018-10-15 14:45:00\n",
      "豆油:2018-10-15 14:45:00\n",
      "郑煤:2018-10-15 14:45:00\n",
      "沪锌:2018-10-15 14:45:00\n"
     ]
    }
   ],
   "source": [
    "for name in Type_List_01.index:\n",
    "    try:\n",
    "        DF = pd.read_csv('15min\\\\'+name+'15m.csv',sep=',',encoding='gb2312')\n",
    "        DF = DF.iloc[:,0:6]\n",
    "        DF.columns = ['Time','Open','High','Low','Close','Vol'] \n",
    "        \n",
    "        link_15m = 'http://stock2.finance.sina.com.cn/futures/api/json.php/IndexService.getInnerFuturesMiniKLine15m?symbol='+Type_List_02[name]+'0'\n",
    "        r_01 = requests.get(link_15m)\n",
    "        New_Data = pd.DataFrame(r_01.json(),columns =['Time','Open','High','Low','Close','Vol'])\n",
    "        Last_time = list(DF.Time)[0]\n",
    "        the_num = New_Data[New_Data.Time==Last_time].index[0] \n",
    "        New_Data = New_Data.iloc[1:the_num,:]\n",
    "        New_index = range(-len(New_Data),0)\n",
    "        New_Data.index = New_index\n",
    "        DF.loc[:,['Open','High','Low','Close']] = DF.loc[:,['Open','High','Low','Close']].astype('float64')\n",
    "        New_Data.loc[:,['Open','High','Low','Close']] = New_Data.loc[:,['Open','High','Low','Close']].astype('float64')        \n",
    "        DF = pd.concat([New_Data,DF])\n",
    "        \n",
    "        #DF = DF.sort_index(ascending = False)\n",
    "        DF.to_csv('15min\\\\'+name+'15m.csv',index = False)\n",
    "        print(Type_List_01[name]+':'+str(list(DF.Time)[0]))\n",
    "    except:\n",
    "        print(name+'Wrong')"
   ]
  },
  {
   "cell_type": "code",
   "execution_count": 28,
   "metadata": {},
   "outputs": [],
   "source": [
    "# Update Data of 5 mins"
   ]
  },
  {
   "cell_type": "code",
   "execution_count": 29,
   "metadata": {
    "scrolled": true
   },
   "outputs": [
    {
     "name": "stdout",
     "output_type": "stream",
     "text": [
      "沪铝:2018-10-15 14:55:00\n",
      "玉米:2018-10-15 14:55:00\n",
      "沪铜:2018-10-15 14:55:00\n",
      "热卷:2018-10-15 14:55:00\n",
      "铁矿:2018-10-15 14:55:00\n",
      "焦炭:2018-10-15 14:55:00\n",
      "鸡蛋:2018-10-15 14:55:00\n",
      "焦煤:2018-10-15 14:55:00\n",
      "豆粕:2018-10-15 14:55:00\n",
      "甲醇:2018-10-15 14:55:00\n",
      "沪镍:2018-10-15 14:55:00\n",
      "沪铅:2018-10-15 14:55:00\n",
      "螺纹:2018-10-15 14:55:00\n",
      "菜粕:2018-10-15 14:55:00\n",
      "橡胶:2018-10-15 14:55:00\n",
      "白糖:2018-10-15 14:55:00\n",
      "豆油:2018-10-15 14:55:00\n",
      "郑煤:2018-10-15 14:55:00\n",
      "沪锌:2018-10-15 14:55:00\n"
     ]
    }
   ],
   "source": [
    "for name in Type_List_01.index:\n",
    "    try:\n",
    "        DF = pd.read_csv('5min\\\\'+name+'5m.csv',sep=',',encoding='gb2312')\n",
    "        DF = DF.iloc[:,0:6]\n",
    "        DF.columns = ['Time','Open','High','Low','Close','Vol'] \n",
    "        \n",
    "        link_5m = 'http://stock2.finance.sina.com.cn/futures/api/json.php/IndexService.getInnerFuturesMiniKLine5m?symbol='+Type_List_02[name]+'0'\n",
    "        r_01 = requests.get(link_5m)\n",
    "        New_Data = pd.DataFrame(r_01.json(),columns =['Time','Open','High','Low','Close','Vol'])\n",
    "        Last_time = list(DF.Time)[0]\n",
    "        the_num = New_Data[New_Data.Time==Last_time].index[0] \n",
    "        New_Data = New_Data.iloc[1:the_num,:]\n",
    "        New_index = range(-len(New_Data),0)\n",
    "        New_Data.index = New_index\n",
    "        DF.loc[:,['Open','High','Low','Close']] = DF.loc[:,['Open','High','Low','Close']].astype('float64')\n",
    "        New_Data.loc[:,['Open','High','Low','Close']] = New_Data.loc[:,['Open','High','Low','Close']].astype('float64')        \n",
    "        DF = pd.concat([New_Data,DF])\n",
    "        \n",
    "        #DF = DF.sort_index(ascending = False)\n",
    "        DF.to_csv('5min\\\\'+name+'5m.csv',index = False)\n",
    "        print(Type_List_01[name]+':'+str(list(DF.Time)[0]))\n",
    "    except:\n",
    "        print(name+'Wrong')"
   ]
  },
  {
   "cell_type": "code",
   "execution_count": null,
   "metadata": {},
   "outputs": [],
   "source": []
  }
 ],
 "metadata": {
  "kernelspec": {
   "display_name": "Python 3",
   "language": "python",
   "name": "python3"
  },
  "language_info": {
   "codemirror_mode": {
    "name": "ipython",
    "version": 3
   },
   "file_extension": ".py",
   "mimetype": "text/x-python",
   "name": "python",
   "nbconvert_exporter": "python",
   "pygments_lexer": "ipython3",
   "version": "3.6.4"
  }
 },
 "nbformat": 4,
 "nbformat_minor": 2
}
